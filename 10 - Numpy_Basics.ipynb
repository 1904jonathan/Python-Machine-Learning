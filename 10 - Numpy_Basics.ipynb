{
  "cells": [
    {
      "cell_type": "markdown",
      "metadata": {
        "colab_type": "text",
        "id": "view-in-github"
      },
      "source": [
        "<a href=\"https://colab.research.google.com/github/MachineLearnia/Python-Machine-Learning/blob/master/10%20-%20Numpy%20(les%20Bases).ipynb\" target=\"_parent\"><img src=\"https://colab.research.google.com/assets/colab-badge.svg\" alt=\"Open In Colab\"/></a>"
      ]
    },
    {
      "cell_type": "markdown",
      "metadata": {
        "id": "kPpCo82Kj-HT"
      },
      "source": [
        "# 10/30 Numpy : Array ndarray"
      ]
    },
    {
      "cell_type": "code",
      "execution_count": 1,
      "metadata": {
        "id": "1pmhE3K-j8uk"
      },
      "outputs": [],
      "source": [
        "import numpy as np"
      ]
    },
    {
      "cell_type": "markdown",
      "metadata": {
        "id": "ueEc8h86slN-"
      },
      "source": [
        "## 1. **ndarray** Array Generators\n",
        "\n",
        "* Default generator: **ndarray()**\n",
        "* 1D generators: **np.linspace** and **np.arange()**\n",
        "* ND generators: **np.zeros()**, **np.ones()**, **np.random.randn()** (these are the most useful)\n"
      ]
    },
    {
      "cell_type": "code",
      "execution_count": 2,
      "metadata": {
        "id": "FAALhYpise2W"
      },
      "outputs": [],
      "source": [
        "A = np.array([1, 2, 3])  # default generator, converts lists (or other objects) into an ndarray\n",
        "A = np.zeros((2, 3))      # 2x3 array of zeros\n",
        "B = np.ones((2, 3))       # 2x3 array of ones\n",
        "C = np.random.randn(2, 3) # random array (normal distribution) with shape 2x3\n",
        "D = np.random.rand(2, 3)  # random array (uniform distribution)\n",
        "\n",
        "E = np.random.randint(0, 10, [2, 3])  # array of random integers from 0 to 10 with shape 2x3"
      ]
    },
    {
      "cell_type": "code",
      "execution_count": 4,
      "metadata": {
        "id": "qlCQKYHvsij7"
      },
      "outputs": [
        {
          "name": "stderr",
          "output_type": "stream",
          "text": [
            "C:\\Users\\Jonathan Tabet\\AppData\\Local\\Temp\\ipykernel_30456\\1427681679.py:2: DeprecationWarning: `np.bool` is a deprecated alias for the builtin `bool`. To silence this warning, use `bool` by itself. Doing this will not modify any behavior and is safe. If you specifically wanted the numpy scalar type, use `np.bool_` here.\n",
            "Deprecated in NumPy 1.20; for more details and guidance: https://numpy.org/devdocs/release/1.20.0-notes.html#deprecations\n",
            "  B = np.eye(4, dtype=np.bool)           # creates an identity matrix and converts the elements to bool type\n"
          ]
        }
      ],
      "source": [
        "A = np.ones((2, 3), dtype=np.float16)  # defines the type and the memory space to occupy\n",
        "B = np.eye(4, dtype=np.bool)           # creates an identity matrix and converts the elements to bool type"
      ]
    },
    {
      "cell_type": "code",
      "execution_count": 5,
      "metadata": {
        "id": "2_wG1YYM3cKL"
      },
      "outputs": [],
      "source": [
        "A = np.linspace(1,10, 10)\n",
        "B = np.arange(0, 10, 10)"
      ]
    },
    {
      "cell_type": "markdown",
      "metadata": {
        "id": "O0gPhrkatFCq"
      },
      "source": [
        "## 2. Importants Features \n",
        "- size\n",
        "- shape"
      ]
    },
    {
      "cell_type": "code",
      "execution_count": 6,
      "metadata": {
        "colab": {
          "base_uri": "https://localhost:8080/",
          "height": 85
        },
        "id": "49om7hC7s7PY",
        "outputId": "11656a58-5b8c-4a61-df58-8092d792bbd7"
      },
      "outputs": [
        {
          "name": "stdout",
          "output_type": "stream",
          "text": [
            "6\n",
            "(2, 3)\n",
            "<class 'tuple'>\n",
            "2\n"
          ]
        }
      ],
      "source": [
        "A = np.zeros((2, 3))  # create an array with shape (2, 3)\n",
        "\n",
        "print(A.size)   # number of elements in array A\n",
        "print(A.shape)  # dimensions of array A (as a tuple)\n",
        "\n",
        "print(type(A.shape))  # proof that shape is a tuple\n",
        "\n",
        "print(A.shape[0])  # number of elements in the first dimension of A\n"
      ]
    },
    {
      "cell_type": "markdown",
      "metadata": {
        "id": "LJxuYLLptW4U"
      },
      "source": [
        "## 3. Important Methods\n",
        "\n",
        "* **reshape()**: to resize an array\n",
        "* **ravel()**: to flatten an array (so it becomes one-dimensional)\n",
        "* **squeeze()**: removes any dimension equal to 1\n",
        "* **concatenate()**: joins two arrays along a specified axis (also available as hstack and vstack)\n"
      ]
    },
    {
      "cell_type": "code",
      "execution_count": 10,
      "metadata": {
        "colab": {
          "base_uri": "https://localhost:8080/",
          "height": 68
        },
        "id": "nzys1OiQtTS1",
        "outputId": "894bea04-06a6-4e23-e335-abe43764c7e0"
      },
      "outputs": [
        {
          "data": {
            "text/plain": [
              "array([[0., 0.],\n",
              "       [0., 0.],\n",
              "       [0., 0.]])"
            ]
          },
          "execution_count": 10,
          "metadata": {},
          "output_type": "execute_result"
        }
      ],
      "source": [
        "A = np.zeros((2, 3))  # create an array with shape (2, 3)\n",
        "\n",
        "A = A.reshape((3, 2))  # resize array A (3 rows, 2 columns)\n",
        "A.ravel()               # flatten array A (single dimension)\n",
        "A.squeeze()             # remove \"1\" dimensions from A"
      ]
    },
    {
      "cell_type": "code",
      "execution_count": 11,
      "metadata": {
        "colab": {
          "base_uri": "https://localhost:8080/",
          "height": 85
        },
        "id": "1sBGP0vxtlNT",
        "outputId": "7ad91082-e579-4084-c8a8-391f3e25d505"
      },
      "outputs": [
        {
          "data": {
            "text/plain": [
              "array([[0., 0., 0.],\n",
              "       [0., 0., 0.],\n",
              "       [1., 1., 1.],\n",
              "       [1., 1., 1.]])"
            ]
          },
          "execution_count": 11,
          "metadata": {},
          "output_type": "execute_result"
        }
      ],
      "source": [
        "A = np.zeros((2, 3))  # create an array with shape (2, 3)\n",
        "B = np.ones((2, 3))   # create an array with shape (2, 3)\n",
        "\n",
        "np.concatenate((A, B), axis=0)  # axis 0: equivalent to np.vstack((A, B))"
      ]
    },
    {
      "cell_type": "code",
      "execution_count": null,
      "metadata": {
        "colab": {
          "base_uri": "https://localhost:8080/",
          "height": 51
        },
        "id": "Ped85c9YuN5t",
        "outputId": "3b5936d1-b344-40ef-950a-ca44e0c8c09a"
      },
      "outputs": [
        {
          "data": {
            "text/plain": [
              "array([[0., 0., 0., 1., 1., 1.],\n",
              "       [0., 0., 0., 1., 1., 1.]])"
            ]
          },
          "execution_count": 9,
          "metadata": {},
          "output_type": "execute_result"
        }
      ],
      "source": [
        "np.concatenate((A, B), axis=1)  # axis 1: equivalent to np.hstack((A, B))"
      ]
    },
    {
      "cell_type": "markdown",
      "metadata": {
        "id": "PBuUMz7Tu9jK"
      },
      "source": [
        "## 4. Exercise and Solutions\n"
      ]
    },
    {
      "cell_type": "code",
      "execution_count": 12,
      "metadata": {
        "id": "ZBCmA3ZIuRVt"
      },
      "outputs": [],
      "source": [
        "def initialization(m, n):\n",
        "    # m: number of rows\n",
        "    # n: number of columns\n",
        "    # returns a random matrix of shape (m, n+1)\n",
        "    # with a bias column (filled with \"1\") on the far right\n",
        "\n",
        "    return X\n"
      ]
    },
    {
      "cell_type": "code",
      "execution_count": 13,
      "metadata": {
        "colab": {
          "base_uri": "https://localhost:8080/",
          "height": 68
        },
        "id": "wm0Z6SqRuhJL",
        "outputId": "385c2ecd-c94d-474c-9365-a4adeac802a2"
      },
      "outputs": [
        {
          "data": {
            "text/plain": [
              "array([[-0.53272319,  0.86654173,  1.71046729, -1.21838536,  1.        ],\n",
              "       [ 0.32713364,  0.62399468,  0.59483111, -0.99809618,  1.        ],\n",
              "       [-1.29757005, -0.34866459, -1.57517622, -0.77032532,  1.        ]])"
            ]
          },
          "execution_count": 13,
          "metadata": {},
          "output_type": "execute_result"
        }
      ],
      "source": [
        "# SOLUTION\n",
        "def initialization(m, n):\n",
        "    # m: number of rows\n",
        "    # n: number of columns\n",
        "    # returns a random matrix of shape (m, n+1)\n",
        "    # with a bias column (filled with \"1\") on the far right\n",
        "    X = np.random.randn(m, n)\n",
        "    X = np.concatenate((X, np.ones((X.shape[0], 1))), axis=1)\n",
        "\n",
        "    return X\n",
        "\n",
        "initialization(3, 4)\n"
      ]
    },
    {
      "cell_type": "code",
      "execution_count": null,
      "metadata": {
        "id": "qg_S5VLTvBh0"
      },
      "outputs": [],
      "source": []
    }
  ],
  "metadata": {
    "colab": {
      "authorship_tag": "ABX9TyOBDpBixGknnBtNmIz7Zvhf",
      "include_colab_link": true,
      "name": "Untitled7.ipynb",
      "provenance": []
    },
    "kernelspec": {
      "display_name": "hiveBrainCarto",
      "language": "python",
      "name": "python3"
    },
    "language_info": {
      "codemirror_mode": {
        "name": "ipython",
        "version": 3
      },
      "file_extension": ".py",
      "mimetype": "text/x-python",
      "name": "python",
      "nbconvert_exporter": "python",
      "pygments_lexer": "ipython3",
      "version": "3.9.22"
    }
  },
  "nbformat": 4,
  "nbformat_minor": 0
}
