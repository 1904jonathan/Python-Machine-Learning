{
  "cells": [
    {
      "cell_type": "markdown",
      "metadata": {
        "colab_type": "text",
        "id": "view-in-github"
      },
      "source": [
        "<a href=\"https://colab.research.google.com/github/MachineLearnia/Python-tutoriel/blob/master/05%20-%20Dictionnaires.ipynb\" target=\"_parent\"><img src=\"https://colab.research.google.com/assets/colab-badge.svg\" alt=\"Open In Colab\"/></a>"
      ]
    },
    {
      "cell_type": "markdown",
      "metadata": {
        "colab_type": "text",
        "id": "joYmh7TZyu-I"
      },
      "source": [
        "# 5/30 - Dictionaries\n",
        "Dictionaries are **unordered** control structures, meaning the values they contain are not arranged by an index, but by a **unique key**.\n",
        "\n",
        "A perfect use case for dictionaries is to group together \"variables\" in the same container. (These variables are not real variables, but **keys**).\n",
        "\n",
        "*For example, you can create an inventory dictionary that groups several products (the keys) and their quantities (the values).*"
      ]
    },
    {
      "cell_type": "code",
      "execution_count": 2,
      "metadata": {
        "colab": {},
        "colab_type": "code",
        "id": "IxAbYNGyypdD"
      },
      "outputs": [],
      "source": [
        "inventory = {'apples': 100,\n",
        "             'bananas': 80,\n",
        "             'pears': 120}"
      ]
    },
    {
      "cell_type": "code",
      "execution_count": 3,
      "metadata": {
        "colab": {
          "base_uri": "https://localhost:8080/",
          "height": 34
        },
        "colab_type": "code",
        "id": "KIMrwYSF0WOx",
        "outputId": "c44e65a3-4efa-4d94-e0a3-c64872120894"
      },
      "outputs": [
        {
          "data": {
            "text/plain": [
              "dict_values([100, 80, 120])"
            ]
          },
          "execution_count": 3,
          "metadata": {},
          "output_type": "execute_result"
        }
      ],
      "source": [
        "inventory.values()"
      ]
    },
    {
      "cell_type": "code",
      "execution_count": 5,
      "metadata": {
        "colab": {
          "base_uri": "https://localhost:8080/",
          "height": 34
        },
        "colab_type": "code",
        "id": "kiVf5n2J0Yxa",
        "outputId": "b829279b-d0cd-4df5-c4a1-57b1b5d1ea35"
      },
      "outputs": [
        {
          "data": {
            "text/plain": [
              "dict_keys(['apples', 'bananas', 'pears'])"
            ]
          },
          "execution_count": 5,
          "metadata": {},
          "output_type": "execute_result"
        }
      ],
      "source": [
        "inventory.keys()"
      ]
    },
    {
      "cell_type": "code",
      "execution_count": 6,
      "metadata": {
        "colab": {
          "base_uri": "https://localhost:8080/",
          "height": 163
        },
        "colab_type": "code",
        "id": "buwMNYZ40agi",
        "outputId": "fef58cfb-e270-45f8-9d85-386d36ca86cf"
      },
      "outputs": [
        {
          "data": {
            "text/plain": [
              "3"
            ]
          },
          "execution_count": 6,
          "metadata": {},
          "output_type": "execute_result"
        }
      ],
      "source": [
        "len(inventory)"
      ]
    },
    {
      "cell_type": "markdown",
      "metadata": {
        "colab_type": "text",
        "id": "P3tAq8GJ0idV"
      },
      "source": [
        "Here is how to add a key/value pair to our dictionary (note: if the key already exists, its value will be replaced)"
      ]
    },
    {
      "cell_type": "code",
      "execution_count": 7,
      "metadata": {
        "colab": {
          "base_uri": "https://localhost:8080/",
          "height": 34
        },
        "colab_type": "code",
        "id": "0cPXXWkY0eCZ",
        "outputId": "da888bd9-4c15-499c-c171-306d2dafb9eb"
      },
      "outputs": [
        {
          "name": "stdout",
          "output_type": "stream",
          "text": [
            "{'apples': 100, 'bananas': 80, 'pears': 120, 'apricots': 30}\n"
          ]
        }
      ],
      "source": [
        "inventory['apricots'] = 30\n",
        "print(inventory)"
      ]
    },
    {
      "cell_type": "markdown",
      "metadata": {
        "colab_type": "text",
        "id": "tCIkswDN1L9m"
      },
      "source": [
        "Warning: If you look for a key that does not exist in a dictionary, Python will return an error. To avoid this, you can use the **get()** method."
      ]
    },
    {
      "cell_type": "code",
      "execution_count": 11,
      "metadata": {
        "colab": {},
        "colab_type": "code",
        "id": "8v_RHt9F1KGx"
      },
      "outputs": [
        {
          "name": "stdout",
          "output_type": "stream",
          "text": [
            "None\n"
          ]
        }
      ],
      "source": [
        "print(inventory.get('other')) # does not exist, returns None"
      ]
    },
    {
      "cell_type": "code",
      "execution_count": 10,
      "metadata": {
        "colab": {
          "base_uri": "https://localhost:8080/",
          "height": 34
        },
        "colab_type": "code",
        "id": "IlZRIOPb1Zd_",
        "outputId": "28332b9a-6ae8-4196-e464-117f74f0b2d7"
      },
      "outputs": [
        {
          "data": {
            "text/plain": [
              "100"
            ]
          },
          "execution_count": 10,
          "metadata": {},
          "output_type": "execute_result"
        }
      ],
      "source": [
        "inventory.get('apples') # pomme existe"
      ]
    },
    {
      "cell_type": "markdown",
      "metadata": {
        "colab_type": "text",
        "id": "OC8GzBfW1pBr"
      },
      "source": [
        "The **pop()** method allows you to remove a key from a dictionary while returning the value associated with that key."
      ]
    },
    {
      "cell_type": "code",
      "execution_count": 12,
      "metadata": {
        "colab": {
          "base_uri": "https://localhost:8080/",
          "height": 51
        },
        "colab_type": "code",
        "id": "njAZZTkf1d7H",
        "outputId": "b8f4a6a6-7e3f-4e3e-cb09-328ff4c24373"
      },
      "outputs": [
        {
          "name": "stdout",
          "output_type": "stream",
          "text": [
            "{'apples': 100, 'bananas': 80, 'pears': 120}\n",
            "30\n"
          ]
        }
      ],
      "source": [
        "apricots = inventory.pop(\"apricots\")\n",
        "print(inventory) # no longer contains the key 'apricots'\n",
        "print(apricots) # apricots contains the value from the dictionary"
      ]
    },
    {
      "cell_type": "markdown",
      "metadata": {
        "colab_type": "text",
        "id": "giJvo0ON2nxR"
      },
      "source": [
        "To use a for loop with a dictionary, it is useful to use the **items()** method which returns both the keys and the values."
      ]
    },
    {
      "cell_type": "code",
      "execution_count": 13,
      "metadata": {
        "colab": {
          "base_uri": "https://localhost:8080/",
          "height": 68
        },
        "colab_type": "code",
        "id": "pn0mt-wh1oj0",
        "outputId": "69707cdc-8127-451e-c6ea-73942f0f1128"
      },
      "outputs": [
        {
          "name": "stdout",
          "output_type": "stream",
          "text": [
            "apples 100\n",
            "bananas 80\n",
            "pears 120\n"
          ]
        }
      ],
      "source": [
        "for key, value in inventory.items():\n",
        "  print(key, value)"
      ]
    },
    {
      "cell_type": "markdown",
      "metadata": {
        "colab_type": "text",
        "id": "qWrT3hUL3nbN"
      },
      "source": [
        "## Exercise and Solution\n",
        "Implement a function *sort_by_sign(classeur, value)* that places a value in a dictionary according to its sign."
      ]
    },
    {
      "cell_type": "code",
      "execution_count": 14,
      "metadata": {
        "colab": {},
        "colab_type": "code",
        "id": "lvFl1n8Z22Pq"
      },
      "outputs": [],
      "source": [
        "folder = {'negatives': [],\n",
        "      'positives': []\n",
        "      }\n",
        "\n",
        "def sort_by_sign(folder, value):\n",
        "  return folder"
      ]
    },
    {
      "cell_type": "code",
      "execution_count": 16,
      "metadata": {
        "colab": {},
        "colab_type": "code",
        "id": "LAOsU1Ya4PKY"
      },
      "outputs": [],
      "source": [
        "# SOLUTION\n",
        "\n",
        "def sort_by_sign(folder, value):\n",
        "  if value >= 0:\n",
        "    folder['positives'].append(value)\n",
        "  else:\n",
        "    folder['negatives'].append(value)\n",
        "  return folder"
      ]
    },
    {
      "cell_type": "code",
      "execution_count": 18,
      "metadata": {
        "colab": {
          "base_uri": "https://localhost:8080/",
          "height": 34
        },
        "colab_type": "code",
        "id": "IvLbAkZB4rTk",
        "outputId": "7240704c-039f-4c65-daf0-187610f5a4f9"
      },
      "outputs": [
        {
          "data": {
            "text/plain": [
              "{'negatives': [-6, -10], 'positives': [9, 9, 2, 10]}"
            ]
          },
          "execution_count": 18,
          "metadata": {},
          "output_type": "execute_result"
        }
      ],
      "source": [
        "sort_by_sign(folder, 9)\n",
        "sort_by_sign(folder, -6)\n",
        "sort_by_sign(folder, 2)\n",
        "sort_by_sign(folder, -10)\n",
        "sort_by_sign(folder, 10)\n"
      ]
    },
    {
      "cell_type": "code",
      "execution_count": 0,
      "metadata": {
        "colab": {},
        "colab_type": "code",
        "id": "tpgKytJR4u0v"
      },
      "outputs": [],
      "source": []
    }
  ],
  "metadata": {
    "colab": {
      "authorship_tag": "ABX9TyNuaHloFlnajW67t9G5GL/M",
      "include_colab_link": true,
      "name": "Untitled2.ipynb",
      "provenance": []
    },
    "kernelspec": {
      "display_name": "hiveBrainCarto",
      "language": "python",
      "name": "python3"
    },
    "language_info": {
      "codemirror_mode": {
        "name": "ipython",
        "version": 3
      },
      "file_extension": ".py",
      "mimetype": "text/x-python",
      "name": "python",
      "nbconvert_exporter": "python",
      "pygments_lexer": "ipython3",
      "version": "3.9.22"
    }
  },
  "nbformat": 4,
  "nbformat_minor": 0
}
