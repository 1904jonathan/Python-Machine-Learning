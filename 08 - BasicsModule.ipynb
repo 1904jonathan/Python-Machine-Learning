{
  "cells": [
    {
      "cell_type": "markdown",
      "metadata": {
        "colab_type": "text",
        "id": "view-in-github"
      },
      "source": [
        "<a href=\"https://colab.research.google.com/github/MachineLearnia/Python-tutoriel/blob/master/08%20-%20Modules%20de%20Bases.ipynb\" target=\"_parent\"><img src=\"https://colab.research.google.com/assets/colab-badge.svg\" alt=\"Open In Colab\"/></a>"
      ]
    },
    {
      "cell_type": "markdown",
      "metadata": {
        "colab_type": "text",
        "id": "BUt_YJsDRLNS"
      },
      "source": [
        "# 8/30 Basic Python Modules\n",
        "\n",
        "Python contains a number of built-in modules, which offer many useful mathematical, statistical, random, and OS functions. To import a module, proceed as follows:\n",
        "\n",
        "* **import module** (imports the entire module)\n",
        "* **import module as md** (gives a nickname to the module)\n",
        "* **from module import function** (imports a function from the module)\n",
        "\n"
      ]
    },
    {
      "cell_type": "code",
      "execution_count": 2,
      "metadata": {
        "colab": {},
        "colab_type": "code",
        "id": "gmlP-nyNRksg"
      },
      "outputs": [],
      "source": [
        "import math\n",
        "import statistics\n",
        "import random\n",
        "import os\n",
        "import glob"
      ]
    },
    {
      "cell_type": "markdown",
      "metadata": {
        "colab_type": "text",
        "id": "rAZM-GAFTIBW"
      },
      "source": [
        "You can also create your own modules and import them into other projects. A module is actually just a simple .py file that contains functions and classes."
      ]
    },
    {
      "cell_type": "markdown",
      "metadata": {
        "colab_type": "text",
        "id": "1ETgM9qZRdw1"
      },
      "source": [
        "## 1. math and statistics Modules\n",
        "\n",
        "The math and statistics modules are seemingly very useful, but in data science we usually use their equivalents in the **NUMPY** package. Nevertheless, it can be interesting to look at the basic functions.\n"
      ]
    },
    {
      "cell_type": "code",
      "execution_count": 3,
      "metadata": {
        "colab": {
          "base_uri": "https://localhost:8080/",
          "height": 51
        },
        "colab_type": "code",
        "id": "cGfVUkdVRE_y",
        "outputId": "edddb1de-d91e-4615-ac5a-65ae846602b1"
      },
      "outputs": [
        {
          "name": "stdout",
          "output_type": "stream",
          "text": [
            "3.141592653589793\n",
            "1.0\n"
          ]
        }
      ],
      "source": [
        "print(math.pi)\n",
        "print(math.cos(2*math.pi))"
      ]
    },
    {
      "cell_type": "code",
      "execution_count": 4,
      "metadata": {
        "colab": {
          "base_uri": "https://localhost:8080/",
          "height": 51
        },
        "colab_type": "code",
        "id": "XwFZrMVdTQyJ",
        "outputId": "992c6517-76de-4240-a043-1a3a199bcfd4"
      },
      "outputs": [
        {
          "name": "stdout",
          "output_type": "stream",
          "text": [
            "3.6\n",
            "4\n",
            "2.073644135332772\n",
            "4.3\n"
          ]
        }
      ],
      "source": [
        "liste = [1, 4, 6, 2, 5]\n",
        "\n",
        "print(statistics.mean(liste)) # mean of the list\n",
        "print(statistics.median(liste)) # median of the list\n",
        "print(statistics.stdev(liste)) # standard deviation of the list\n",
        "print(statistics.variance(liste)) # variance of the liste"
      ]
    },
    {
      "cell_type": "markdown",
      "metadata": {
        "colab_type": "text",
        "id": "AKGXkU5ZTvz8"
      },
      "source": [
        "## 2. Random Module\n",
        "\n",
        "The random module is one of the most useful in Python. In data science, we mostly use its equivalent **NUMPY**.\n"
      ]
    },
    {
      "cell_type": "code",
      "execution_count": 5,
      "metadata": {
        "colab": {
          "base_uri": "https://localhost:8080/",
          "height": 68
        },
        "colab_type": "code",
        "id": "a2I21oZkTuHB",
        "outputId": "b086dd4c-5168-42db-804d-5e3c4fb2c154"
      },
      "outputs": [
        {
          "name": "stdout",
          "output_type": "stream",
          "text": [
            "2\n",
            "0.7579544029403025\n",
            "8\n"
          ]
        }
      ],
      "source": [
        "random.seed(0) # fix the seed for reproducibility\n",
        "\n",
        "print(random.choice(liste)) # choose a random element from the list\n",
        "\n",
        "print(random.random()) # generate a random float between 0 and 1\n",
        "\n",
        "print(random.randint(5, 10)) # generate a random integer between 5 and 10 (both included)"
      ]
    },
    {
      "cell_type": "code",
      "execution_count": 6,
      "metadata": {
        "colab": {
          "base_uri": "https://localhost:8080/",
          "height": 34
        },
        "colab_type": "code",
        "id": "5MhdVoC3T-XV",
        "outputId": "01a1c3d3-120d-429a-e2d1-1f05347f7b34"
      },
      "outputs": [
        {
          "data": {
            "text/plain": [
              "[5, 33, 65, 62, 51, 38, 61, 45, 74, 27]"
            ]
          },
          "execution_count": 6,
          "metadata": {},
          "output_type": "execute_result"
        }
      ],
      "source": [
        "random.sample(range(100), 10) # return a list of 10 unique random numbers between 0 and 100"
      ]
    },
    {
      "cell_type": "code",
      "execution_count": 8,
      "metadata": {
        "colab": {
          "base_uri": "https://localhost:8080/",
          "height": 51
        },
        "colab_type": "code",
        "id": "cBrlkD-vU8tt",
        "outputId": "4af02fe1-a09f-4e50-f198-c6d28c26cf13"
      },
      "outputs": [
        {
          "name": "stdout",
          "output_type": "stream",
          "text": [
            "original list [6, 1, 2, 4, 5]\n",
            "shuffled list [1, 5, 4, 2, 6]\n"
          ]
        }
      ],
      "source": [
        "print('original list', liste)\n",
        "\n",
        "random.shuffle(liste) # shuffle the list in place\n",
        "\n",
        "print('shuffled list', liste)"
      ]
    },
    {
      "cell_type": "markdown",
      "metadata": {
        "colab_type": "text",
        "id": "5Xq4Z9LhVbrw"
      },
      "source": [
        "## 3. OS and Glob Modules\n",
        "\n",
        "The OS and Glob modules are **essential** for performing operations on your hard drive, such as opening a file located in a specific working directory.\n",
        "\n"
      ]
    },
    {
      "cell_type": "code",
      "execution_count": 9,
      "metadata": {
        "colab": {
          "base_uri": "https://localhost:8080/",
          "height": 34
        },
        "colab_type": "code",
        "id": "4Ss3-GnoVNmq",
        "outputId": "ac19dc88-d04d-41a3-e7aa-ba085b465e26"
      },
      "outputs": [
        {
          "data": {
            "text/plain": [
              "'c:\\\\CODE\\\\Python-Machine-Learning'"
            ]
          },
          "execution_count": 9,
          "metadata": {},
          "output_type": "execute_result"
        }
      ],
      "source": [
        "os.getcwd() # display the current working directory"
      ]
    },
    {
      "cell_type": "code",
      "execution_count": 10,
      "metadata": {
        "colab": {
          "base_uri": "https://localhost:8080/",
          "height": 34
        },
        "colab_type": "code",
        "id": "GYg0__LiViYP",
        "outputId": "14b6e24a-1765-410d-e636-15184872ebbd"
      },
      "outputs": [
        {
          "name": "stdout",
          "output_type": "stream",
          "text": [
            "['02 - Functions and Variables.ipynb', '03 - Control Structures.ipynb', '04 - Data Structures Lists Tuples.ipynb', '05 - Dictionaries.ipynb', '06 - List Comprehension.ipynb', '07 - Built-in Functions.ipynb', '08 - Modules de Bases.ipynb', '09 - Programmation Orientée Objet.ipynb', '10 - Numpy (les Bases).ipynb', '11 - Numpy  Indexing Slicing Boolean Indexing.ipynb', '12 - Numpy Maths et Statistiques.ipynb', '13 - Numpy Broadcasting.ipynb', '14 - Matplotlib (les Bases).ipynb', '15 - Matplotlib Top Graphiques.ipynb', '16 - Scipy.ipynb', '17 - Pandas (les Bases).ipynb', '18 - Pandas et Séries Temporelles.ipynb', '19 - Seaborn.ipynb', '20 - Sklearn (les Bases).ipynb', '21 - Sklearn _ Model Selection.ipynb', '22 - Sklearn Pre-processing.ipynb', '23 - Sklearn Feature Selection.ipynb', '24 - Sklearn _ Apprentissage Non-supervisé.ipynb', '25 - Sklearn Ensemble Learning.ipynb', '27 - Exploratory Data Analysis.ipynb', '28 - Prétraitement de données (Corrigé).ipynb', '29 - Modelisation.ipynb', 'Bonus _ Pipelines Composites.ipynb', 'Bonus _ Sklearn Imputers.ipynb', 'Dataset', 'file.txt', 'README.md', 'text.txt']\n"
          ]
        }
      ],
      "source": [
        "print(glob.glob('*')) # content of the current working directory"
      ]
    },
    {
      "cell_type": "code",
      "execution_count": 0,
      "metadata": {
        "colab": {},
        "colab_type": "code",
        "id": "gZDOyrbcWC8J"
      },
      "outputs": [],
      "source": []
    }
  ],
  "metadata": {
    "colab": {
      "authorship_tag": "ABX9TyNMaWNa1nHIB7W1Gqz1eq5+",
      "include_colab_link": true,
      "name": "Untitled5.ipynb",
      "provenance": []
    },
    "kernelspec": {
      "display_name": "hiveBrainCarto",
      "language": "python",
      "name": "python3"
    },
    "language_info": {
      "codemirror_mode": {
        "name": "ipython",
        "version": 3
      },
      "file_extension": ".py",
      "mimetype": "text/x-python",
      "name": "python",
      "nbconvert_exporter": "python",
      "pygments_lexer": "ipython3",
      "version": "3.9.22"
    }
  },
  "nbformat": 4,
  "nbformat_minor": 0
}
