{
  "cells": [
    {
      "cell_type": "markdown",
      "metadata": {
        "colab_type": "text",
        "id": "view-in-github"
      },
      "source": [
        "<a href=\"https://colab.research.google.com/github/MachineLearnia/Python-tutoriel/blob/master/04%20-%20Structures%20de%20donn%C3%A9es%20(Listes%20et%20Tuples).ipynb\" target=\"_parent\"><img src=\"https://colab.research.google.com/assets/colab-badge.svg\" alt=\"Open In Colab\"/></a>"
      ]
    },
    {
      "cell_type": "markdown",
      "metadata": {
        "colab_type": "text",
        "id": "zZAigZmjo-Eu"
      },
      "source": [
        "# 4/30: Data Structures (Lists and Tuples)\n",
        "\n",
        "A data structure is a variable capable of holding multiple values at once. A data structure can form a **sequence** if the values it contains are arranged in a certain order. This is the case for **lists** and **tuples**. In contrast, a **dictionary** does not form a sequence."
      ]
    },
    {
      "cell_type": "markdown",
      "metadata": {
        "colab_type": "text",
        "id": "GYmh0u3Gp2vR"
      },
      "source": [
        "## 1. Creating Lists and Tuples\n",
        "A list or a tuple can contain all types of values (int, float, bool, string). These are called heterogeneous structures.\n",
        "\n",
        "The difference between the two is that a list is **mutable** while a tuple is not (it cannot be changed after it is created)."
      ]
    },
    {
      "cell_type": "code",
      "execution_count": 2,
      "metadata": {
        "colab": {},
        "colab_type": "code",
        "id": "lMrHIDBro9Ul"
      },
      "outputs": [],
      "source": [
        "# Lists\n",
        "list_1 = [1, 4, 2, 7, 35, 84]\n",
        "cities = ['Paris', 'Berlin', 'London', 'Brussels']\n",
        "nested_list = [list_1, cities] # a list can even contain other lists! This is called a nested list\n",
        "\n",
        "# Tuples\n",
        "tuple_1 = (1, 2, 6, 2)"
      ]
    },
    {
      "cell_type": "code",
      "execution_count": 3,
      "metadata": {
        "colab": {
          "base_uri": "https://localhost:8080/",
          "height": 34
        },
        "colab_type": "code",
        "id": "6fmme6vsq9mp",
        "outputId": "9eb5c9e1-ecef-4560-8e22-318e683a3d9d"
      },
      "outputs": [
        {
          "name": "stdout",
          "output_type": "stream",
          "text": [
            "['Paris', 'Berlin', 'London', 'Brussels']\n"
          ]
        }
      ],
      "source": [
        "print(cities)"
      ]
    },
    {
      "cell_type": "markdown",
      "metadata": {
        "colab_type": "text",
        "id": "if5Og4U5rFJT"
      },
      "source": [
        "## 2. Indexing and Slicing\n",
        "In a sequence, each element is arranged according to an **index** (the first index being index 0)\n",
        "\n",
        "To access an element of a list or tuple, we use a technique called **Indexing**\n",
        "\n",
        "To access several elements of a list or tuple, we use a technique called **Slicing**"
      ]
    },
    {
      "cell_type": "code",
      "execution_count": 4,
      "metadata": {
        "colab": {
          "base_uri": "https://localhost:8080/",
          "height": 85
        },
        "colab_type": "code",
        "id": "J1EuMMrSq_X2",
        "outputId": "a642c0a2-9906-4478-f0e1-3c766f32dbd8"
      },
      "outputs": [
        {
          "name": "stdout",
          "output_type": "stream",
          "text": [
            "full sequence: ['Paris', 'Berlin', 'London', 'Brussels']\n",
            "index 0: Paris\n",
            "index 1: Berlin\n",
            "last index (-1): Brussels\n"
          ]
        }
      ],
      "source": [
        "# INDEXING\n",
        "\n",
        "print('full sequence:', cities)\n",
        "print('index 0:', cities[0])\n",
        "print('index 1:', cities[1])\n",
        "print('last index (-1):', cities[-1])"
      ]
    },
    {
      "cell_type": "code",
      "execution_count": 5,
      "metadata": {
        "colab": {
          "base_uri": "https://localhost:8080/",
          "height": 85
        },
        "colab_type": "code",
        "id": "8rmbVqLNsHIy",
        "outputId": "39855646-5c98-4c97-cac4-fec5c2b9428d"
      },
      "outputs": [
        {
          "name": "stdout",
          "output_type": "stream",
          "text": [
            "full sequence: ['Paris', 'Berlin', 'London', 'Brussels']\n",
            "index 0-2: ['Paris', 'Berlin', 'London']\n",
            "index 1-2: ['Berlin', 'London']\n",
            "reverse order: ['Brussels', 'London', 'Berlin', 'Paris']\n"
          ]
        }
      ],
      "source": [
        "# SLICING [start (inclusive) : end (exclusive) : step]\n",
        "\n",
        "print('full sequence:', cities)\n",
        "print('index 0-2:', cities[0:3])\n",
        "print('index 1-2:', cities[1:3])\n",
        "print('reverse order:', cities[::-1])"
      ]
    },
    {
      "cell_type": "markdown",
      "metadata": {
        "colab_type": "text",
        "id": "9i0rLn2TtUwd"
      },
      "source": [
        "## 3. Useful Actions on Lists"
      ]
    },
    {
      "cell_type": "code",
      "execution_count": 6,
      "metadata": {
        "colab": {
          "base_uri": "https://localhost:8080/",
          "height": 136
        },
        "colab_type": "code",
        "id": "8zJbTtPytH3G",
        "outputId": "4ef03019-4ace-4717-e729-197d308a2bd8"
      },
      "outputs": [
        {
          "name": "stdout",
          "output_type": "stream",
          "text": [
            "['Paris', 'Berlin', 'London', 'Brussels']\n",
            "['Paris', 'Berlin', 'London', 'Brussels', 'Dublin']\n",
            "['Paris', 'Berlin', 'Madrid', 'London', 'Brussels', 'Dublin']\n",
            "['Paris', 'Berlin', 'Madrid', 'London', 'Brussels', 'Dublin', 'Amsterdam', 'Rome']\n",
            "length of the list: 8\n",
            "['Amsterdam', 'Berlin', 'Brussels', 'Dublin', 'London', 'Madrid', 'Paris', 'Rome']\n",
            "1\n"
          ]
        }
      ],
      "source": [
        "cities = ['Paris', 'Berlin', 'London', 'Brussels'] # initial list\n",
        "print(cities)\n",
        "\n",
        "cities.append('Dublin') # Adds an element to the end of the list\n",
        "print(cities)\n",
        "\n",
        "cities.insert(2, 'Madrid') # Adds an element at the specified index\n",
        "print(cities)\n",
        "\n",
        "cities.extend(['Amsterdam', 'Rome']) # Adds a list to the end of our list\n",
        "print(cities)\n",
        "\n",
        "print('length of the list:', len(cities)) # displays the length of the list\n",
        "\n",
        "cities.sort(reverse=False) # sorts the list in alphabetical/numerical order\n",
        "print(cities)\n",
        "\n",
        "print(cities.count('Paris')) # counts how many times an element appears in the list"
      ]
    },
    {
      "cell_type": "code",
      "execution_count": 7,
      "metadata": {
        "colab": {
          "base_uri": "https://localhost:8080/",
          "height": 34
        },
        "colab_type": "code",
        "id": "XjHrv7HjuFCE",
        "outputId": "117ddbc4-cfa8-4de5-bdc2-6e8417604a5c"
      },
      "outputs": [
        {
          "name": "stdout",
          "output_type": "stream",
          "text": [
            "yes\n"
          ]
        }
      ],
      "source": [
        "if 'Paris' in cities:\n",
        "  print('yes')\n",
        "else:\n",
        "  print('no')"
      ]
    },
    {
      "cell_type": "code",
      "execution_count": 8,
      "metadata": {
        "colab": {
          "base_uri": "https://localhost:8080/",
          "height": 153
        },
        "colab_type": "code",
        "id": "HHSiF8g5vyEh",
        "outputId": "34f919cf-1d0e-43cb-9bc4-19281d9d8872"
      },
      "outputs": [
        {
          "name": "stdout",
          "output_type": "stream",
          "text": [
            "Amsterdam\n",
            "Berlin\n",
            "Brussels\n",
            "Dublin\n",
            "London\n",
            "Madrid\n",
            "Paris\n",
            "Rome\n"
          ]
        }
      ],
      "source": [
        "for element in cities:\n",
        "  print(element)"
      ]
    },
    {
      "cell_type": "markdown",
      "metadata": {
        "colab_type": "text",
        "id": "z8o9svv2v88a"
      },
      "source": [
        "The enumerate function is very useful for retrieving both the elements of a list and their index. It is a widely used function in data science."
      ]
    },
    {
      "cell_type": "code",
      "execution_count": 9,
      "metadata": {
        "colab": {
          "base_uri": "https://localhost:8080/",
          "height": 153
        },
        "colab_type": "code",
        "id": "w9t8cMPzv1Ug",
        "outputId": "579039b4-91a6-4f8a-bfcd-e9d2adee574d"
      },
      "outputs": [
        {
          "name": "stdout",
          "output_type": "stream",
          "text": [
            "0 Amsterdam\n",
            "1 Berlin\n",
            "2 Brussels\n",
            "3 Dublin\n",
            "4 London\n",
            "5 Madrid\n",
            "6 Paris\n",
            "7 Rome\n"
          ]
        }
      ],
      "source": [
        "for index, element in enumerate(cities):\n",
        "  print(index, element)"
      ]
    },
    {
      "cell_type": "markdown",
      "metadata": {
        "colab_type": "text",
        "id": "r7pQ6Yl_wd-B"
      },
      "source": [
        "The zip function is also very useful for iterating through 2 lists in parallel. If one list is shorter than the other, the for loop stops at the shortest list."
      ]
    },
    {
      "cell_type": "code",
      "execution_count": 10,
      "metadata": {
        "colab": {
          "base_uri": "https://localhost:8080/",
          "height": 136
        },
        "colab_type": "code",
        "id": "Ej3rTRqawN2i",
        "outputId": "48fc7aec-a096-4582-ae47-27eb0973b522"
      },
      "outputs": [
        {
          "name": "stdout",
          "output_type": "stream",
          "text": [
            "Amsterdam 312\n",
            "Berlin 52\n",
            "Brussels 654\n",
            "Dublin 23\n",
            "London 65\n",
            "Madrid 12\n",
            "Paris 678\n"
          ]
        }
      ],
      "source": [
        "list_2 = [312, 52, 654, 23, 65, 12, 678]\n",
        "for element_1, element_2 in zip(cities, list_2):\n",
        "  print(element_1, element_2)"
      ]
    },
    {
      "cell_type": "markdown",
      "metadata": {
        "colab_type": "text",
        "id": "vvjPq9a8w80t"
      },
      "source": [
        "## 4. Exercise and Solution\n",
        "Transform the following code, which generates the **Fibonacci sequence**, to store the results in a list and return this list at the end of the function."
      ]
    },
    {
      "cell_type": "code",
      "execution_count": 12,
      "metadata": {
        "colab": {},
        "colab_type": "code",
        "id": "XRp6AbXIwyCn"
      },
      "outputs": [],
      "source": [
        "# exercise\n",
        "def fibonacci(n):\n",
        "    a = 0\n",
        "    b = 1\n",
        "    while b < n:\n",
        "      a, b = b, a+b\n",
        "      print(a)\n"
      ]
    },
    {
      "cell_type": "code",
      "execution_count": 13,
      "metadata": {
        "colab": {
          "base_uri": "https://localhost:8080/",
          "height": 34
        },
        "colab_type": "code",
        "id": "_r2fVNGrxenQ",
        "outputId": "9022a5b2-1c54-441f-a453-60e709145d4c"
      },
      "outputs": [
        {
          "name": "stdout",
          "output_type": "stream",
          "text": [
            "[0, 1, 1, 2, 3, 5, 8, 13, 21, 34, 55, 89, 144, 233, 377, 610, 987]\n"
          ]
        }
      ],
      "source": [
        "# SOLUTION :\n",
        "\n",
        "def fibonacci(n):\n",
        "    a = 0\n",
        "    b = 1\n",
        "    fib = [a] # initialise la liste fib avec la premiere valeur de a \n",
        "    while b < n:\n",
        "        a, b = b, a+b\n",
        "        fib.append(a) # add the new value of a to the list\n",
        "    return fib\n",
        "\n",
        "print(fibonacci(1000))"
      ]
    },
    {
      "cell_type": "code",
      "execution_count": 0,
      "metadata": {
        "colab": {},
        "colab_type": "code",
        "id": "DHS-JClnxsDx"
      },
      "outputs": [],
      "source": []
    }
  ],
  "metadata": {
    "colab": {
      "authorship_tag": "ABX9TyNJAEomf56R9Aj2AZzGRpQF",
      "collapsed_sections": [],
      "include_colab_link": true,
      "name": "Untitled4.ipynb",
      "provenance": []
    },
    "kernelspec": {
      "display_name": "hiveBrainCarto",
      "language": "python",
      "name": "python3"
    },
    "language_info": {
      "codemirror_mode": {
        "name": "ipython",
        "version": 3
      },
      "file_extension": ".py",
      "mimetype": "text/x-python",
      "name": "python",
      "nbconvert_exporter": "python",
      "pygments_lexer": "ipython3",
      "version": "3.9.22"
    }
  },
  "nbformat": 4,
  "nbformat_minor": 0
}
