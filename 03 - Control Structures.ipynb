{
  "cells": [
    {
      "cell_type": "markdown",
      "metadata": {
        "colab_type": "text",
        "id": "view-in-github"
      },
      "source": [
        "<a href=\"https://colab.research.google.com/github/MachineLearnia/Python-tutoriel/blob/master/03%20-%20Structures%20de%20Controles.ipynb\" target=\"_parent\"><img src=\"https://colab.research.google.com/assets/colab-badge.svg\" alt=\"Open In Colab\"/></a>"
      ]
    },
    {
      "cell_type": "markdown",
      "metadata": {
        "colab_type": "text",
        "id": "mc-EcvradiEm"
      },
      "source": [
        "# 3/30: Control Structures\n",
        "In the world of programming, there are three main **control structures** for creating algorithms.\n",
        "- **If / Else** alternatives\n",
        "- **For** loops\n",
        "- **While** loops"
      ]
    },
    {
      "cell_type": "markdown",
      "metadata": {
        "colab_type": "text",
        "id": "GCRRr0YTdpRc"
      },
      "source": [
        "## 1. If / Else Alternatives:\n",
        "This structure allows you to test a sequence of alternatives. If a condition is met, then the instructions that follow are executed and the control structure stops; otherwise, the next condition is tested."
      ]
    },
    {
      "cell_type": "code",
      "execution_count": 1,
      "metadata": {
        "colab": {},
        "colab_type": "code",
        "id": "36oymtgkdebr"
      },
      "outputs": [],
      "source": [
        "def sign_test(value):\n",
        "  if value < 0:\n",
        "    print('negative')\n",
        "  elif value == 0:\n",
        "    print('null')\n",
        "  else:\n",
        "    print('positive')"
      ]
    },
    {
      "cell_type": "code",
      "execution_count": 2,
      "metadata": {
        "colab": {
          "base_uri": "https://localhost:8080/",
          "height": 34
        },
        "colab_type": "code",
        "id": "eCbpqCywfazE",
        "outputId": "5f69f649-4092-473e-ed5a-2f97203b2752"
      },
      "outputs": [
        {
          "name": "stdout",
          "output_type": "stream",
          "text": [
            "negative\n"
          ]
        }
      ],
      "source": [
        "sign_test(-2)"
      ]
    },
    {
      "cell_type": "code",
      "execution_count": 4,
      "metadata": {
        "colab": {
          "base_uri": "https://localhost:8080/",
          "height": 51
        },
        "colab_type": "code",
        "id": "eT4ffeSrfeB2",
        "outputId": "80a81a89-0672-4812-a264-24e5014b059f"
      },
      "outputs": [
        {
          "name": "stdout",
          "output_type": "stream",
          "text": [
            "True\n",
            "negative\n"
          ]
        }
      ],
      "source": [
        "value = -2\n",
        "print(value < 0) # True\n",
        "\n",
        "if value < 0:\n",
        "  print('negative')"
      ]
    },
    {
      "cell_type": "markdown",
      "metadata": {
        "colab_type": "text",
        "id": "EPk6O53vhZkW"
      },
      "source": [
        "This allows you to develop algorithms with combinations of logical operations and comparison operations. For example: *if the weather is nice and it's warm, then I'll go swimming*"
      ]
    },
    {
      "cell_type": "code",
      "execution_count": 5,
      "metadata": {
        "colab": {
          "base_uri": "https://localhost:8080/",
          "height": 34
        },
        "colab_type": "code",
        "id": "52NzMgaegVhP",
        "outputId": "e8996961-8d44-4da2-d7ae-45c8798dd543"
      },
      "outputs": [
        {
          "name": "stdout",
          "output_type": "stream",
          "text": [
            "x and y are not both positive\n"
          ]
        }
      ],
      "source": [
        "x = 3\n",
        "y = -1\n",
        "if (x>0) and (y>0):\n",
        "  print('x and y are both positive')\n",
        "else:\n",
        "  print('x and y are not both positive')"
      ]
    },
    {
      "cell_type": "markdown",
      "metadata": {
        "colab_type": "text",
        "id": "X7ySgVEwhbFd"
      },
      "source": [
        "## 2. For Loop\n",
        "A for loop allows you to create iterative algorithms (which perform a certain task several times in a row). To do this, the loop goes through all the elements of an object called an **iterable**. This can be a list, a dictionary, a range, a numpy array, or many other objects..."
      ]
    },
    {
      "cell_type": "code",
      "execution_count": 6,
      "metadata": {
        "colab": {
          "base_uri": "https://localhost:8080/",
          "height": 187
        },
        "colab_type": "code",
        "id": "4O5B4LHbhMze",
        "outputId": "6c890d52-f5fe-4ed7-e674-314687a88d70"
      },
      "outputs": [
        {
          "name": "stdout",
          "output_type": "stream",
          "text": [
            "0\n",
            "1\n",
            "2\n",
            "3\n",
            "4\n",
            "5\n",
            "6\n",
            "7\n",
            "8\n",
            "9\n"
          ]
        }
      ],
      "source": [
        "# range(start, end, step) --> end is excluded\n",
        "for i in range(0, 10):\n",
        "  print(i)"
      ]
    },
    {
      "cell_type": "code",
      "execution_count": 7,
      "metadata": {
        "colab": {
          "base_uri": "https://localhost:8080/",
          "height": 357
        },
        "colab_type": "code",
        "id": "aZSpQmXRjJGx",
        "outputId": "87cbbc20-302d-42b3-aa70-c2f8ef4e8ef9"
      },
      "outputs": [
        {
          "name": "stdout",
          "output_type": "stream",
          "text": [
            "-10\n",
            "negative\n",
            "-8\n",
            "negative\n",
            "-6\n",
            "negative\n",
            "-4\n",
            "negative\n",
            "-2\n",
            "negative\n",
            "0\n",
            "null\n",
            "2\n",
            "positive\n",
            "4\n",
            "positive\n",
            "6\n",
            "positive\n",
            "8\n",
            "positive\n"
          ]
        }
      ],
      "source": [
        "for i in range(-10, 10, 2):\n",
        "  print(i)\n",
        "  sign_test(i)"
      ]
    },
    {
      "cell_type": "markdown",
      "metadata": {
        "colab_type": "text",
        "id": "_saAMgPukHO-"
      },
      "source": [
        "## 3. While Loop\n",
        "A While loop allows you to repeatedly perform an action as long as the execution condition is validated (as long as the condition is **True**)"
      ]
    },
    {
      "cell_type": "code",
      "execution_count": 8,
      "metadata": {
        "colab": {
          "base_uri": "https://localhost:8080/",
          "height": 187
        },
        "colab_type": "code",
        "id": "M8qYGgBkj3m9",
        "outputId": "cb4df7df-e53c-4a74-ed59-7a83a72f4540"
      },
      "outputs": [
        {
          "name": "stdout",
          "output_type": "stream",
          "text": [
            "0\n",
            "1\n",
            "2\n",
            "3\n",
            "4\n",
            "5\n",
            "6\n",
            "7\n",
            "8\n",
            "9\n"
          ]
        }
      ],
      "source": [
        "x = 0\n",
        "while x < 10:\n",
        "  print(x)\n",
        "  x += 1 # x = x + 1"
      ]
    },
    {
      "cell_type": "markdown",
      "metadata": {
        "colab_type": "text",
        "id": "uky4XsM2k1WE"
      },
      "source": [
        "## 4. Exercise and Solution\n",
        "Implement the **Fibonacci sequence** [0, 1, 1, 2, 3, 5, 8, 13, 21, ...] which starts from two numbers a=0 and b=1, and calculates the next number by adding the previous two numbers.\n",
        "\n",
        "Hints:\n",
        "- For this exercise, you will need a **While** loop\n",
        "- You can print this sequence until you reach a number **n** of your choice\n",
        "- In Python, it is possible to update 2 variables simultaneously on the same line: **a, b = b, a+b**"
      ]
    },
    {
      "cell_type": "code",
      "execution_count": 12,
      "metadata": {
        "colab": {
          "base_uri": "https://localhost:8080/",
          "height": 289
        },
        "colab_type": "code",
        "id": "O9D6U0bBktyC",
        "outputId": "917e9e6e-a9d7-4ab9-bd8f-42fd4061ad2c"
      },
      "outputs": [
        {
          "name": "stdout",
          "output_type": "stream",
          "text": [
            "1\n",
            "1\n",
            "2\n",
            "3\n",
            "5\n",
            "8\n",
            "13\n",
            "21\n",
            "34\n",
            "55\n",
            "89\n",
            "144\n",
            "233\n",
            "377\n",
            "610\n",
            "987\n"
          ]
        }
      ],
      "source": [
        "# Solution\n",
        "\n",
        "def fibonacci(n):\n",
        "    a = 0\n",
        "    b = 1\n",
        "    while b < n:\n",
        "      a, b = b, a+b\n",
        "      print(a)\n",
        "\n",
        "fibonacci(1000)"
      ]
    },
    {
      "cell_type": "code",
      "execution_count": 0,
      "metadata": {
        "colab": {},
        "colab_type": "code",
        "id": "3wKUNitUntVE"
      },
      "outputs": [],
      "source": []
    }
  ],
  "metadata": {
    "colab": {
      "authorship_tag": "ABX9TyMj3VzLYETwJDJ7iMVVo3pw",
      "include_colab_link": true,
      "name": "Untitled3.ipynb",
      "provenance": []
    },
    "kernelspec": {
      "display_name": "hiveBrainCarto",
      "language": "python",
      "name": "python3"
    },
    "language_info": {
      "codemirror_mode": {
        "name": "ipython",
        "version": 3
      },
      "file_extension": ".py",
      "mimetype": "text/x-python",
      "name": "python",
      "nbconvert_exporter": "python",
      "pygments_lexer": "ipython3",
      "version": "3.9.22"
    }
  },
  "nbformat": 4,
  "nbformat_minor": 0
}
