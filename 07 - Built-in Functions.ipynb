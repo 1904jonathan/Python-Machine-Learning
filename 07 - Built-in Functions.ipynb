{
  "cells": [
    {
      "cell_type": "markdown",
      "metadata": {
        "colab_type": "text",
        "id": "view-in-github"
      },
      "source": [
        "<a href=\"https://colab.research.google.com/github/MachineLearnia/Python-tutoriel/blob/master/07%20-%20Built-in%20Functions.ipynb\" target=\"_parent\"><img src=\"https://colab.research.google.com/assets/colab-badge.svg\" alt=\"Open In Colab\"/></a>"
      ]
    },
    {
      "cell_type": "markdown",
      "metadata": {
        "colab_type": "text",
        "id": "VVszUmwz-bFM"
      },
      "source": [
        "# 7/30 Built-in Functions\n",
        "Python contains a large number of very useful built-in functions to know. This allows you to build code more quickly, without having to develop your own functions for the most basic tasks. In this notebook, I show you the most important ones:\n",
        "\n",
        "- Basic functions: abs(), round(), max(), min(), len(), sum(), any(), all()\n",
        "- Variable type conversions: int(), str(), float(), type()\n",
        "- Data structure conversions: list(), tuple()\n",
        "- Binary conversions (less useful in machine learning): bin(), oct(), hex()\n",
        "- **input()** function\n",
        "- **format()** function (f-string)\n",
        "- **open()** function"
      ]
    },
    {
      "cell_type": "markdown",
      "metadata": {
        "colab_type": "text",
        "id": "i_Gg60cR_oFB"
      },
      "source": [
        "## 1. Basic Functions\n",
        "Useful in any situation!"
      ]
    },
    {
      "cell_type": "code",
      "execution_count": 1,
      "metadata": {
        "colab": {
          "base_uri": "https://localhost:8080/",
          "height": 51
        },
        "colab_type": "code",
        "id": "EAfp-li6-ZSD",
        "outputId": "c6a56073-a7b7-40b9-cdeb-114e9a607ce1"
      },
      "outputs": [
        {
          "name": "stdout",
          "output_type": "stream",
          "text": [
            "3.14\n",
            "-3\n",
            "9\n",
            "1\n",
            "5\n",
            "5\n",
            "20\n",
            "True\n",
            "True\n"
          ]
        }
      ],
      "source": [
        "x = -3.14\n",
        "print(abs(x)) # absolute value\n",
        "print(round(x)) # arround to nearest integer\n",
        "print(max(1, 5, 3, 9, 2)) # maximum value\n",
        "print(min(1, 5, 3, 9, 2)) # minimum value\n",
        "print(len(\"Hello\")) # length of a string\n",
        "print(len([1, 5, 3, 9, 2])) # length of a list\n",
        "print(sum([1, 5, 3, 9, 2])) # sum of elements in a list\n",
        "print(any([0, \"\", None, 5])) # True if at least one element is true\n",
        "print(all([1, 5, 3, 9, 2])) # True if all elements are true"
      ]
    },
    {
      "cell_type": "code",
      "execution_count": 2,
      "metadata": {
        "colab": {
          "base_uri": "https://localhost:8080/",
          "height": 85
        },
        "colab_type": "code",
        "id": "YnTEUj20_3Wq",
        "outputId": "349fb051-30e0-4366-8411-2e994071c9bb"
      },
      "outputs": [
        {
          "name": "stdout",
          "output_type": "stream",
          "text": [
            "-4\n",
            "3\n",
            "5\n",
            "-2\n",
            "True\n",
            "False\n"
          ]
        }
      ],
      "source": [
        "liste = [-2, 3, 1, 0, -4]\n",
        "\n",
        "print(min(liste)) # minimum\n",
        "print(max(liste)) # maximum\n",
        "print(len(liste)) # lenght of the list\n",
        "print(sum(liste)) # sum of the elements in the list\n",
        "print(any(liste)) # True if at least one element is true\n",
        "print(all(liste)) # True if all elements are true"
      ]
    },
    {
      "cell_type": "code",
      "execution_count": 4,
      "metadata": {
        "colab": {
          "base_uri": "https://localhost:8080/",
          "height": 51
        },
        "colab_type": "code",
        "id": "c3I6FPVkANmN",
        "outputId": "a155cc37-193e-458c-b8af-132bb972ed4b"
      },
      "outputs": [
        {
          "name": "stdout",
          "output_type": "stream",
          "text": [
            "True\n",
            "False\n"
          ]
        }
      ],
      "source": [
        "liste = [False, False, True]\n",
        "\n",
        "print(any(liste)) #is there at least one True element ?\n",
        "print(all(liste)) # all the elements are True ?"
      ]
    },
    {
      "cell_type": "markdown",
      "metadata": {
        "colab_type": "text",
        "id": "2CKqQf0YAuvN"
      },
      "source": [
        "## 2. Conversion Functions\n",
        "It can be very useful to convert a variable from one type to another (for example, to perform calculations). For this, we have the functions int(), str(), and float().\n",
        "\n",
        "The **type()** function is very useful for inspecting the types of our variables."
      ]
    },
    {
      "cell_type": "code",
      "execution_count": 5,
      "metadata": {
        "colab": {
          "base_uri": "https://localhost:8080/",
          "height": 34
        },
        "colab_type": "code",
        "id": "-_P3CGAvAatE",
        "outputId": "b7d86d2a-ac56-4165-80cd-4c98e19f6d04"
      },
      "outputs": [
        {
          "data": {
            "text/plain": [
              "str"
            ]
          },
          "execution_count": 5,
          "metadata": {},
          "output_type": "execute_result"
        }
      ],
      "source": [
        "age = '32'\n",
        "type(age)"
      ]
    },
    {
      "cell_type": "code",
      "execution_count": 6,
      "metadata": {
        "colab": {
          "base_uri": "https://localhost:8080/",
          "height": 34
        },
        "colab_type": "code",
        "id": "9QkhdpCEBK0W",
        "outputId": "f0a8a95c-d0cb-4551-9f08-a4021a68ed93"
      },
      "outputs": [
        {
          "data": {
            "text/plain": [
              "int"
            ]
          },
          "execution_count": 6,
          "metadata": {},
          "output_type": "execute_result"
        }
      ],
      "source": [
        "age = int(age)\n",
        "type(age)"
      ]
    },
    {
      "cell_type": "code",
      "execution_count": 7,
      "metadata": {
        "colab": {
          "base_uri": "https://localhost:8080/",
          "height": 34
        },
        "colab_type": "code",
        "id": "5DDHy7qBBT9l",
        "outputId": "cef6fe90-15f3-40ad-9239-e742c56db63c"
      },
      "outputs": [
        {
          "data": {
            "text/plain": [
              "42"
            ]
          },
          "execution_count": 7,
          "metadata": {},
          "output_type": "execute_result"
        }
      ],
      "source": [
        "age + 10"
      ]
    },
    {
      "cell_type": "markdown",
      "metadata": {
        "colab_type": "text",
        "id": "MYxly1nnBhxL"
      },
      "source": [
        "You can also convert lists to tuples, or Numpy arrays (which we will see later) to lists..."
      ]
    },
    {
      "cell_type": "code",
      "execution_count": 9,
      "metadata": {
        "colab": {
          "base_uri": "https://localhost:8080/",
          "height": 34
        },
        "colab_type": "code",
        "id": "sl7n5xP8BWCW",
        "outputId": "b0e48c93-f717-427e-be8c-83864da48fdd"
      },
      "outputs": [
        {
          "data": {
            "text/plain": [
              "list"
            ]
          },
          "execution_count": 9,
          "metadata": {},
          "output_type": "execute_result"
        }
      ],
      "source": [
        "tuple_1 = (1, 2, 3, 4)\n",
        "\n",
        "liste_1 = list(tuple_1) # convert tuple to list\n",
        "\n",
        "type(liste_1)"
      ]
    },
    {
      "cell_type": "markdown",
      "metadata": {
        "colab_type": "text",
        "id": "orx_mdrPCCqx"
      },
      "source": [
        "## 3. The **input()** function\n",
        "This function is very useful for asking the user to enter a value into your program."
      ]
    },
    {
      "cell_type": "code",
      "execution_count": 12,
      "metadata": {
        "colab": {
          "base_uri": "https://localhost:8080/",
          "height": 34
        },
        "colab_type": "code",
        "id": "VRzdH0oeB3w8",
        "outputId": "4535b183-4540-477d-c649-e0446c75d2a8"
      },
      "outputs": [],
      "source": [
        "age = input('what is your age?')"
      ]
    },
    {
      "cell_type": "code",
      "execution_count": 14,
      "metadata": {
        "colab": {
          "base_uri": "https://localhost:8080/",
          "height": 34
        },
        "colab_type": "code",
        "id": "mR0irKo7CXFj",
        "outputId": "2df066f9-12a1-4ba5-dc82-05cc376598f2"
      },
      "outputs": [
        {
          "data": {
            "text/plain": [
              "str"
            ]
          },
          "execution_count": 14,
          "metadata": {},
          "output_type": "execute_result"
        }
      ],
      "source": [
        "type(age) # age is of type string. Remember to convert it if you want to perform calculations with it."
      ]
    },
    {
      "cell_type": "markdown",
      "metadata": {
        "colab_type": "text",
        "id": "ClGnpncTCpSh"
      },
      "source": [
        "## 4. The **format()** function\n",
        "This function allows you to insert the value of a variable into a string.\n",
        "\n",
        "A faster way to use this function is to use **f-strings**"
      ]
    },
    {
      "cell_type": "code",
      "execution_count": 17,
      "metadata": {
        "colab": {
          "base_uri": "https://localhost:8080/",
          "height": 34
        },
        "colab_type": "code",
        "id": "YNo1gncmCZjb",
        "outputId": "e4e51b60-5b8d-422b-a1c8-2d26fa34f4e0"
      },
      "outputs": [
        {
          "name": "stdout",
          "output_type": "stream",
          "text": [
            "It is 25 degrees in Paris\n"
          ]
        }
      ],
      "source": [
        "x = 25\n",
        "city = 'Paris'\n",
        "\n",
        "message = 'It is {} degrees in {}'.format(x, city)\n",
        "print(message)"
      ]
    },
    {
      "cell_type": "code",
      "execution_count": 18,
      "metadata": {
        "colab": {
          "base_uri": "https://localhost:8080/",
          "height": 34
        },
        "colab_type": "code",
        "id": "h3xtfGoHDCmu",
        "outputId": "45d10f11-4183-4daa-852c-3b86dac38002"
      },
      "outputs": [
        {
          "name": "stdout",
          "output_type": "stream",
          "text": [
            "It is 25 degrees in Paris\n"
          ]
        }
      ],
      "source": [
        "message = f'It is {x} degrees in {city}'\n",
        "print(message)"
      ]
    },
    {
      "cell_type": "markdown",
      "metadata": {
        "colab_type": "text",
        "id": "PWFMzobFDkfP"
      },
      "source": [
        "## 5. The **open()** function\n",
        "This is one of the most useful functions in Python. It allows you to open any file on your computer and use it in Python. Different modes exist:\n",
        "- mode 'r': read a file from your computer\n",
        "- mode 'w': write a file to your computer\n",
        "- mode 'a': (append) add content to an existing file"
      ]
    },
    {
      "cell_type": "code",
      "execution_count": 19,
      "metadata": {
        "colab": {},
        "colab_type": "code",
        "id": "ovu_J5rhDS0-"
      },
      "outputs": [],
      "source": [
        "f = open('text.txt', 'w') # open a file in write mode\n",
        "f.write('hello')\n",
        "f.close() # close the file"
      ]
    },
    {
      "cell_type": "code",
      "execution_count": 20,
      "metadata": {
        "colab": {
          "base_uri": "https://localhost:8080/",
          "height": 34
        },
        "colab_type": "code",
        "id": "3GjqncN3NvO8",
        "outputId": "c94ca820-e42b-47d4-8840-425110ad62ef"
      },
      "outputs": [
        {
          "name": "stdout",
          "output_type": "stream",
          "text": [
            "hello\n"
          ]
        }
      ],
      "source": [
        "f = open('text.txt', 'r')\n",
        "print(f.read())\n",
        "f.close() "
      ]
    },
    {
      "cell_type": "markdown",
      "metadata": {
        "colab_type": "text",
        "id": "tjuY60QsN3Ax"
      },
      "source": [
        "In practice, we often write **with open() as f** so that we don't have to close the file manually after the work is done:"
      ]
    },
    {
      "cell_type": "code",
      "execution_count": 21,
      "metadata": {
        "colab": {
          "base_uri": "https://localhost:8080/",
          "height": 34
        },
        "colab_type": "code",
        "id": "8NeneA9zNy6N",
        "outputId": "74c9c575-68f2-4250-82b5-eca1c73669ee"
      },
      "outputs": [
        {
          "name": "stdout",
          "output_type": "stream",
          "text": [
            "hello\n"
          ]
        }
      ],
      "source": [
        "with open('text.txt', 'r') as f:\n",
        "    print(f.read())"
      ]
    },
    {
      "cell_type": "markdown",
      "metadata": {
        "colab_type": "text",
        "id": "4W96D02DOVmC"
      },
      "source": [
        "## 6. Exercise and Solution\n",
        "The code below creates a file containing the squares of numbers from 0 to 19.\n",
        "The exercise is to implement code that reads this file and writes each line into a list.\n",
        "\n",
        "Note_1: The **read().splitlines()** function will be very useful.\n",
        "\n",
        "Note_2: For a better result, try using a list comprehension!"
      ]
    },
    {
      "cell_type": "code",
      "execution_count": 22,
      "metadata": {
        "colab": {},
        "colab_type": "code",
        "id": "5NOsB5k5OAlC"
      },
      "outputs": [],
      "source": [
        "# This code writes the file\n",
        "with open('file.txt', 'w') as f:\n",
        "    for i in range(0, 20):\n",
        "        f.write(f'{i}: {i**2} \\n')\n",
        "\n",
        "# Write here the code to read the file and save each line in a list.\n"
      ]
    },
    {
      "cell_type": "code",
      "execution_count": 23,
      "metadata": {
        "colab": {
          "base_uri": "https://localhost:8080/",
          "height": 357
        },
        "colab_type": "code",
        "id": "ua9uDeenOtdl",
        "outputId": "790d5c6f-5f81-480f-8218-6777cf4a4fa6"
      },
      "outputs": [
        {
          "data": {
            "text/plain": [
              "['0: 0 ',\n",
              " '1: 1 ',\n",
              " '2: 4 ',\n",
              " '3: 9 ',\n",
              " '4: 16 ',\n",
              " '5: 25 ',\n",
              " '6: 36 ',\n",
              " '7: 49 ',\n",
              " '8: 64 ',\n",
              " '9: 81 ',\n",
              " '10: 100 ',\n",
              " '11: 121 ',\n",
              " '12: 144 ',\n",
              " '13: 169 ',\n",
              " '14: 196 ',\n",
              " '15: 225 ',\n",
              " '16: 256 ',\n",
              " '17: 289 ',\n",
              " '18: 324 ',\n",
              " '19: 361 ']"
            ]
          },
          "execution_count": 23,
          "metadata": {},
          "output_type": "execute_result"
        }
      ],
      "source": [
        "# SOLUTION (not optimal)\n",
        "with open('file.txt', 'r') as f:\n",
        "    lines = f.read().splitlines()\n",
        "\n",
        "lines"
      ]
    },
    {
      "cell_type": "code",
      "execution_count": 25,
      "metadata": {
        "colab": {
          "base_uri": "https://localhost:8080/",
          "height": 357
        },
        "colab_type": "code",
        "id": "HC9zEPSlPFKE",
        "outputId": "51f9cd11-fd8a-4001-e5a4-8a56569a8b3d"
      },
      "outputs": [
        {
          "data": {
            "text/plain": [
              "['0: 0',\n",
              " '1: 1',\n",
              " '2: 4',\n",
              " '3: 9',\n",
              " '4: 16',\n",
              " '5: 25',\n",
              " '6: 36',\n",
              " '7: 49',\n",
              " '8: 64',\n",
              " '9: 81',\n",
              " '10: 100',\n",
              " '11: 121',\n",
              " '12: 144',\n",
              " '13: 169',\n",
              " '14: 196',\n",
              " '15: 225',\n",
              " '16: 256',\n",
              " '17: 289',\n",
              " '18: 324',\n",
              " '19: 361']"
            ]
          },
          "execution_count": 25,
          "metadata": {},
          "output_type": "execute_result"
        }
      ],
      "source": [
        "# SOLUTION (Better)\n",
        "\n",
        "liste = [row.strip() for row in open('file.txt','r')]\n",
        "liste"
      ]
    },
    {
      "cell_type": "code",
      "execution_count": 0,
      "metadata": {
        "colab": {},
        "colab_type": "code",
        "id": "hpbjZcGaQQN1"
      },
      "outputs": [],
      "source": []
    }
  ],
  "metadata": {
    "colab": {
      "authorship_tag": "ABX9TyMvLW57+7Hc/4mujStMvV7z",
      "collapsed_sections": [],
      "include_colab_link": true,
      "name": "Untitled4.ipynb",
      "provenance": []
    },
    "kernelspec": {
      "display_name": "hiveBrainCarto",
      "language": "python",
      "name": "python3"
    },
    "language_info": {
      "codemirror_mode": {
        "name": "ipython",
        "version": 3
      },
      "file_extension": ".py",
      "mimetype": "text/x-python",
      "name": "python",
      "nbconvert_exporter": "python",
      "pygments_lexer": "ipython3",
      "version": "3.9.22"
    }
  },
  "nbformat": 4,
  "nbformat_minor": 0
}
