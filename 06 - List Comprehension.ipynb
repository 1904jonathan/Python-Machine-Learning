{
  "cells": [
    {
      "cell_type": "markdown",
      "metadata": {
        "colab_type": "text",
        "id": "view-in-github"
      },
      "source": [
        "<a href=\"https://colab.research.google.com/github/MachineLearnia/Python-tutoriel/blob/master/06%20-%20List%20Comprehension.ipynb\" target=\"_parent\"><img src=\"https://colab.research.google.com/assets/colab-badge.svg\" alt=\"Open In Colab\"/></a>"
      ]
    },
    {
      "cell_type": "markdown",
      "metadata": {
        "colab_type": "text",
        "id": "GhAiPHEG5IUO"
      },
      "source": [
        "# 6/30 - List Comprehension\n",
        "List comprehensions are a clever way to create lists in a single line of code, making your code much faster (since Python is a relatively slow language).\n",
        "\n",
        "The two code snippets below perform the same operation. You can see (thanks to the %%time command) that the execution time with list comprehension is much shorter than with the append() method."
      ]
    },
    {
      "cell_type": "code",
      "execution_count": 2,
      "metadata": {
        "colab": {
          "base_uri": "https://localhost:8080/",
          "height": 51
        },
        "colab_type": "code",
        "id": "Lzgj8bJa3Z4E",
        "outputId": "13281391-08be-4407-e169-7ecc21e8e80a"
      },
      "outputs": [
        {
          "name": "stdout",
          "output_type": "stream",
          "text": [
            "CPU times: total: 15.6 ms\n",
            "Wall time: 23.2 ms\n"
          ]
        }
      ],
      "source": [
        "%%time\n",
        "liste = []\n",
        "for i in range(100000):\n",
        "  liste.append(i**2)"
      ]
    },
    {
      "cell_type": "code",
      "execution_count": 3,
      "metadata": {
        "colab": {
          "base_uri": "https://localhost:8080/",
          "height": 51
        },
        "colab_type": "code",
        "id": "CIvxRMVe6vsw",
        "outputId": "ba0c4b1f-805a-45c7-f845-ceea90e48eda"
      },
      "outputs": [
        {
          "name": "stdout",
          "output_type": "stream",
          "text": [
            "CPU times: total: 15.6 ms\n",
            "Wall time: 17 ms\n"
          ]
        }
      ],
      "source": [
        "%%time\n",
        "liste = [i**2 for i in range(100000)]"
      ]
    },
    {
      "cell_type": "markdown",
      "metadata": {
        "colab_type": "text",
        "id": "fvZgGNE18t6Z"
      },
      "source": [
        "You can add if conditions in list comprehensions, for example:"
      ]
    },
    {
      "cell_type": "code",
      "execution_count": 4,
      "metadata": {
        "colab": {
          "base_uri": "https://localhost:8080/",
          "height": 34
        },
        "colab_type": "code",
        "id": "KeCjT4gz7Dgm",
        "outputId": "71ef2147-1333-4a38-aedc-f9a5874f7e2b"
      },
      "outputs": [
        {
          "name": "stdout",
          "output_type": "stream",
          "text": [
            "[0, 4, 16, 36, 64, 100, 144, 196, 256, 324]\n"
          ]
        }
      ],
      "source": [
        "liste = [i**2 for i in range(100000) if (i % 2) == 0] # calcul only for the squares of even numbers\n",
        "\n",
        "print(liste[:10]) # print the first 10 elements of the list"
      ]
    },
    {
      "cell_type": "markdown",
      "metadata": {
        "colab_type": "text",
        "id": "SfgTMW5g9nAK"
      },
      "source": [
        "## Exercise and solution\n",
        "\n",
        "The same principle applies to dictionaries! Try to create a dictionary with keys from 1 to 20, where the value for each key is the square of the key."
      ]
    },
    {
      "cell_type": "code",
      "execution_count": 5,
      "metadata": {
        "colab": {
          "base_uri": "https://localhost:8080/",
          "height": 34
        },
        "colab_type": "code",
        "id": "tFlMy14F9UDq",
        "outputId": "ca4be634-5bfd-448a-c0ca-9b3fcd8f1b0a"
      },
      "outputs": [
        {
          "name": "stdout",
          "output_type": "stream",
          "text": [
            "{1: 1, 2: 4, 3: 9, 4: 16, 5: 25, 6: 36, 7: 49, 8: 64, 9: 81, 10: 100, 11: 121, 12: 144, 13: 169, 14: 196, 15: 225, 16: 256, 17: 289, 18: 324, 19: 361, 20: 400}\n"
          ]
        }
      ],
      "source": [
        "# SOLUTION\n",
        "\n",
        "dictionary = {k : k**2 for k in range(1, 21)}\n",
        "\n",
        "print(dictionary)"
      ]
    },
    {
      "cell_type": "code",
      "execution_count": 0,
      "metadata": {
        "colab": {},
        "colab_type": "code",
        "id": "JCMbIAtO-EaP"
      },
      "outputs": [],
      "source": []
    }
  ],
  "metadata": {
    "colab": {
      "authorship_tag": "ABX9TyO7juhPo5Ghi3/QHXMS+UvK",
      "include_colab_link": true,
      "name": "Untitled3.ipynb",
      "provenance": []
    },
    "kernelspec": {
      "display_name": "hiveBrainCarto",
      "language": "python",
      "name": "python3"
    },
    "language_info": {
      "codemirror_mode": {
        "name": "ipython",
        "version": 3
      },
      "file_extension": ".py",
      "mimetype": "text/x-python",
      "name": "python",
      "nbconvert_exporter": "python",
      "pygments_lexer": "ipython3",
      "version": "3.9.22"
    }
  },
  "nbformat": 4,
  "nbformat_minor": 0
}
