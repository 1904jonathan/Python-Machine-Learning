{
  "cells": [
    {
      "cell_type": "markdown",
      "metadata": {
        "colab_type": "text",
        "id": "view-in-github"
      },
      "source": [
        "<a href=\"https://colab.research.google.com/github/MachineLearnia/Python-tutoriel/blob/master/09%20-%20Programmation%20Orient%C3%A9e%20Objet.ipynb\" target=\"_parent\"><img src=\"https://colab.research.google.com/assets/colab-badge.svg\" alt=\"Open In Colab\"/></a>"
      ]
    },
    {
      "cell_type": "markdown",
      "metadata": {
        "colab_type": "text",
        "id": "-nGb6MtRYWC8"
      },
      "source": [
        "# 9/30 Object-Oriented Programming with Python\n",
        "\n",
        "Object-oriented programming is a **paradigm**, that is, a way of writing clear and simple programs. The principle is to model elements of our programs (like arrays and lists) as **objects** characterized by **attributes** and capable of performing **actions**. These objects are built from **classes** that contain their blueprint.\n",
        "\n",
        "In Python, almost everything is designed to be an object: lists, dictionaries, NumPy arrays, etc.\n",
        "For example, when we write ***list.append()***, we are actually using the append() method on a list object.\n",
        "\n",
        "The Python, NumPy, Pandas, Matplotlib, and Sklearn documentation is therefore largely made up of classes, which it is important to understand in order to learn new things independently through the documentation.\n",
        "\n",
        "Here is how to create classes simply and efficiently:\n"
      ]
    },
    {
      "cell_type": "code",
      "execution_count": 1,
      "metadata": {
        "colab": {},
        "colab_type": "code",
        "id": "pRyJ-iSwYUul"
      },
      "outputs": [],
      "source": [
        "class Vehicle:\n",
        "    \"\"\"\n",
        "    Here is an example of a \"Vehicle\" class that contains the blueprint\n",
        "    for \"vehicle\" objects.\n",
        "    \"\"\"\n",
        "\n",
        "    # A class starts with an initialization function that contains the various attributes\n",
        "    def __init__(self, color='black', speed=0, wheels=4):\n",
        "        self.color = color\n",
        "        self.speed = speed\n",
        "        self.wheels = wheels\n",
        "\n",
        "    # Here is an \"accelerate\" method that modifies an attribute of the object\n",
        "    def accelerate(self, speed):\n",
        "        self.speed += speed\n",
        "\n",
        "    # Here is another method\n",
        "    def stop(self):\n",
        "        self.speed = 0\n",
        "\n",
        "    # Here is a final method, very often used\n",
        "    def display(self):\n",
        "        print(f'color: {self.color}\\nwheels: {self.wheels}\\nspeed: {self.speed}')\n"
      ]
    },
    {
      "cell_type": "code",
      "execution_count": 4,
      "metadata": {
        "colab": {},
        "colab_type": "code",
        "id": "Ngx7Fh0FcdMG"
      },
      "outputs": [],
      "source": [
        "# create an instance of the Vehicle class\n",
        "car_1 = Vehicle(color='red')"
      ]
    },
    {
      "cell_type": "code",
      "execution_count": 5,
      "metadata": {
        "colab": {},
        "colab_type": "code",
        "id": "PVclukHucn09"
      },
      "outputs": [],
      "source": [
        "car_1.accelerate(100)"
      ]
    },
    {
      "cell_type": "code",
      "execution_count": 6,
      "metadata": {
        "colab": {
          "base_uri": "https://localhost:8080/",
          "height": 68
        },
        "colab_type": "code",
        "id": "2_P2lLkOctNS",
        "outputId": "45b07770-fe02-47bd-92e1-5e7256cad533"
      },
      "outputs": [
        {
          "name": "stdout",
          "output_type": "stream",
          "text": [
            "color: red\n",
            "wheels: 4\n",
            "speed: 100\n"
          ]
        }
      ],
      "source": [
        "car_1.display()"
      ]
    },
    {
      "cell_type": "markdown",
      "metadata": {
        "colab_type": "text",
        "id": "kUEyyKQudmcM"
      },
      "source": [
        "## Create subclasses"
      ]
    },
    {
      "cell_type": "code",
      "execution_count": 7,
      "metadata": {
        "colab": {},
        "colab_type": "code",
        "id": "YOF_0y2Hcu3Z"
      },
      "outputs": [],
      "source": [
        "class ElectricCar(Vehicle):\n",
        "    \"\"\"\n",
        "    The ElectricCar class inherits the methods and attributes of the Vehicle class\n",
        "    \"\"\"\n",
        "\n",
        "    def __init__(self, color='black', speed=0, wheels=4, battery=100):\n",
        "        super().__init__(color, speed, wheels)  # super() allows using the parent class's function\n",
        "        self.battery = battery\n",
        "\n",
        "    # Overriding certain methods\n",
        "    def accelerate(self, speed):\n",
        "        super().accelerate(speed)\n",
        "        self.battery -= 0.1 * self.speed\n",
        "\n",
        "    def display(self):\n",
        "        super().display()\n",
        "        print(f'battery: {self.battery}')\n"
      ]
    },
    {
      "cell_type": "code",
      "execution_count": 8,
      "metadata": {
        "colab": {},
        "colab_type": "code",
        "id": "-g8oJHE4gP9r"
      },
      "outputs": [],
      "source": [
        "car_2 = ElectricCar()"
      ]
    },
    {
      "cell_type": "code",
      "execution_count": 10,
      "metadata": {
        "colab": {
          "base_uri": "https://localhost:8080/",
          "height": 153
        },
        "colab_type": "code",
        "id": "Mu4BiQXWgSDx",
        "outputId": "7d702b86-eafe-49ac-aa35-99e49545a0c6"
      },
      "outputs": [
        {
          "name": "stdout",
          "output_type": "stream",
          "text": [
            "color: black\n",
            "wheels: 4\n",
            "speed: 0\n",
            "battery: 100\n",
            "color: black\n",
            "wheels: 4\n",
            "speed: 10\n",
            "battery: 99.0\n"
          ]
        }
      ],
      "source": [
        "car_2.display()\n",
        "\n",
        "car_2.accelerate(10)\n",
        "\n",
        "car_2.display()"
      ]
    },
    {
      "cell_type": "code",
      "execution_count": 0,
      "metadata": {
        "colab": {},
        "colab_type": "code",
        "id": "ik8OQV5mhRLA"
      },
      "outputs": [],
      "source": []
    }
  ],
  "metadata": {
    "colab": {
      "authorship_tag": "ABX9TyPKq7O2+lerh4dr/+l82UHd",
      "include_colab_link": true,
      "name": "Untitled6.ipynb",
      "provenance": []
    },
    "kernelspec": {
      "display_name": "hiveBrainCarto",
      "language": "python",
      "name": "python3"
    },
    "language_info": {
      "codemirror_mode": {
        "name": "ipython",
        "version": 3
      },
      "file_extension": ".py",
      "mimetype": "text/x-python",
      "name": "python",
      "nbconvert_exporter": "python",
      "pygments_lexer": "ipython3",
      "version": "3.9.22"
    }
  },
  "nbformat": 4,
  "nbformat_minor": 0
}
